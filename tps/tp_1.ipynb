{
  "cells": [
    {
      "cell_type": "raw",
      "metadata": {},
      "source": [
        "---\n",
        "title: \"TP1: Data/Error\"\n",
        "---"
      ],
      "id": "67e5b5c6"
    },
    {
      "cell_type": "markdown",
      "metadata": {},
      "source": [
        "## Resumen\n",
        "\n",
        "El TP1 apunta a familiarizarse con el manejo de datos y algunas tecnicas de preprocesado, ademas de metricas de bondad y funciones de perdida. Por sobre todo, el ejercicio entregable de este TP es \"EDA\", que tiene maximo sentido debido a que es una herramienta fundamental de takeaway practico de esta tematica.\n",
        "\n",
        "Encontrará los ejercicios con diferentes marcas:\n",
        "\n",
        "-   ★: Ejercicio Obligatorio - no tenés opción.\n",
        "-   ★★: Ejercicio recomendado - hacelo, que no te gane la timidez.\n",
        "-   ★★★: Ejercicio avanzado - preguntate dos veces si querés entrar en el rabbit hole.\n",
        "-   ★★★★: Ejercicio de integración - ***if you gaze long into an abyss, the abyss also gazes into you.***\n",
        "\n",
        "## (★) 1. Accuracy and Loss functions\n",
        "\n",
        "A fin de experimentar con metricas de bondad y funciones de perdida, implemente las funciones que encontrara en el ejercicio 1 del repositorio base, respetando las interfaces propuestas para cada una de ellas:\n"
      ],
      "id": "ad2485b3"
    },
    {
      "cell_type": "code",
      "metadata": {},
      "source": [
        "def read_from_csv(filename: str) -> Tuple[pd.Series, pd.Series]: ...\n",
        "\n",
        "def precision(y_true: pd.Series, y_pred: pd.Series) -> float: ...\n",
        "\n",
        "def recall(y_true: pd.Series, y_pred: pd.Series) -> float: ...\n",
        "\n",
        "def f1_score(y_true: pd.Series, y_pred: pd.Series) -> float: ...\n",
        "\n",
        "def mse(y_true: pd.Series, y_pred: pd.Series) -> float: ...\n",
        "\n",
        "def cross_entropy(y_true: pd.Series, y_pred: pd.Series) -> float: ..."
      ],
      "id": "ca260f02",
      "execution_count": null,
      "outputs": []
    },
    {
      "cell_type": "markdown",
      "metadata": {},
      "source": [
        "y escriba un main que ejercite estas implementaciones utilizando el archivo `ej1.csv`.\n",
        "\n",
        "## (★) 2. Confusion Matrix\n",
        "\n",
        "Implemente la funcion dada por la siguiente firma:\n"
      ],
      "id": "04d32935"
    },
    {
      "cell_type": "code",
      "metadata": {},
      "source": [
        "def confusion_matrix(y_true: pd.Series, y_pred: pd.Series) -> float: ..."
      ],
      "id": "ce01052a",
      "execution_count": null,
      "outputs": []
    },
    {
      "cell_type": "markdown",
      "metadata": {},
      "source": [
        "y utilice los tres archivos provistos en un main para graficar matrices de confusion en variables binarias y de multiples clases. Encuentra algun patron significativo en los datos?\n",
        "\n",
        "## (★) 3. Numerical and Categorical features\n",
        "\n",
        "Se brinda un dataset de juguete en el archivo ej3.csv. Se pide implementar dos funciones:\n"
      ],
      "id": "a3831709"
    },
    {
      "cell_type": "code",
      "metadata": {},
      "source": [
        "def histogram(feature: pd.Series, n_bins: int) -> pd.Series: ...\n",
        "\n",
        "def one_hot_encoder(feature: pd.Series) -> pd.DataFrame: ..."
      ],
      "id": "faec4190",
      "execution_count": null,
      "outputs": []
    },
    {
      "cell_type": "markdown",
      "metadata": {},
      "source": [
        "Utilice estas funciones dentro de un main que las ejercite con el dataset de juguete, para cada una de las features numericas y categoricas.\n",
        "\n",
        "## (★) 4. Over and Underfitting\n",
        "\n",
        "Se provee un csv que contiene tres pares de curvas de entrenamiento, de funcion de perdida de entrenamiento y de validacion. Se pide implementar las siguientes funciones:\n"
      ],
      "id": "db43b36a"
    },
    {
      "cell_type": "code",
      "metadata": {},
      "source": [
        "def read_from_csv(filename: str) -> Tuple[Tuple[pd.Series, pd.Series]]: ...\n",
        "\n",
        "def plot_loss(loss_train: pd.Series, loss_val: pd.Series) -> None: ..."
      ],
      "id": "957e2a34",
      "execution_count": null,
      "outputs": []
    },
    {
      "cell_type": "markdown",
      "metadata": {},
      "source": [
        "donde plot_loss permite graficar la funcion de perdida. Ejercite esta implementacion en un main. Ademas, rellene la funcion \"write_results\" de forma que se identifiquen claramente los casos y suba el archivo .csv al repositorio.\n",
        "\n",
        "## (★) 5. EDA \\[A entregar\\]\n",
        "\n",
        "TODO - RELLENAR\n",
        "\n",
        "## (★★) 6. ETL\n",
        "\n",
        "TODO - RELLENAR\n",
        "\n",
        "## (★★) 7. Decision Science\n",
        "\n",
        "TODO - RELLENAR\n",
        "\n",
        "## (★★) 8. Calibration Curves\n",
        "\n",
        "Una herramienta sumamente util a la hora de diagnosticar el comportamiento de un modelo clasico es su curva de calibracion (tambien llamado reliability diagram). En general, partiendo de los valores reales $y \\in {1, 0}$ y la probabilidad predicha de que $y == 1$, $p_y \\in [0, 1]$, la curva de calibracion obtiene bines"
      ],
      "id": "8b2ecdae"
    }
  ],
  "metadata": {
    "kernelspec": {
      "name": "python3",
      "language": "python",
      "display_name": "Python 3 (ipykernel)"
    }
  },
  "nbformat": 4,
  "nbformat_minor": 5
}